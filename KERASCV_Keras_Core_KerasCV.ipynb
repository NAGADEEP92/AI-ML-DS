{
  "nbformat": 4,
  "nbformat_minor": 0,
  "metadata": {
    "colab": {
      "provenance": [],
      "gpuType": "T4",
      "include_colab_link": true
    },
    "kernelspec": {
      "name": "python3",
      "display_name": "Python 3"
    },
    "language_info": {
      "name": "python"
    },
    "accelerator": "GPU",
    "widgets": {
      "application/vnd.jupyter.widget-state+json": {
        "dc3a6cb60ce446118db87f5994c8fe84": {
          "model_module": "@jupyter-widgets/controls",
          "model_name": "VBoxModel",
          "model_module_version": "1.5.0",
          "state": {
            "_dom_classes": [],
            "_model_module": "@jupyter-widgets/controls",
            "_model_module_version": "1.5.0",
            "_model_name": "VBoxModel",
            "_view_count": null,
            "_view_module": "@jupyter-widgets/controls",
            "_view_module_version": "1.5.0",
            "_view_name": "VBoxView",
            "box_style": "",
            "children": [
              "IPY_MODEL_27ce9058c925433db661bdda28505357",
              "IPY_MODEL_a0388d5ef30d4840b32ccd310c3634d9"
            ],
            "layout": "IPY_MODEL_0e6da8d1d33f4660996db9a856092bab"
          }
        },
        "27ce9058c925433db661bdda28505357": {
          "model_module": "@jupyter-widgets/controls",
          "model_name": "LabelModel",
          "model_module_version": "1.5.0",
          "state": {
            "_dom_classes": [],
            "_model_module": "@jupyter-widgets/controls",
            "_model_module_version": "1.5.0",
            "_model_name": "LabelModel",
            "_view_count": null,
            "_view_module": "@jupyter-widgets/controls",
            "_view_module_version": "1.5.0",
            "_view_name": "LabelView",
            "description": "",
            "description_tooltip": null,
            "layout": "IPY_MODEL_23a22d045e75422e9db6efecddd3b32b",
            "placeholder": "​",
            "style": "IPY_MODEL_895c060f340440a6af86d012d17c7d2e",
            "value": "1.327 MB of 1.327 MB uploaded (0.000 MB deduped)\r"
          }
        },
        "a0388d5ef30d4840b32ccd310c3634d9": {
          "model_module": "@jupyter-widgets/controls",
          "model_name": "FloatProgressModel",
          "model_module_version": "1.5.0",
          "state": {
            "_dom_classes": [],
            "_model_module": "@jupyter-widgets/controls",
            "_model_module_version": "1.5.0",
            "_model_name": "FloatProgressModel",
            "_view_count": null,
            "_view_module": "@jupyter-widgets/controls",
            "_view_module_version": "1.5.0",
            "_view_name": "ProgressView",
            "bar_style": "",
            "description": "",
            "description_tooltip": null,
            "layout": "IPY_MODEL_fcadae74b22d495687f5f64ea02eef69",
            "max": 1,
            "min": 0,
            "orientation": "horizontal",
            "style": "IPY_MODEL_01e5b3f6db1b48e9b91ae65e59cce5be",
            "value": 1
          }
        },
        "0e6da8d1d33f4660996db9a856092bab": {
          "model_module": "@jupyter-widgets/base",
          "model_name": "LayoutModel",
          "model_module_version": "1.2.0",
          "state": {
            "_model_module": "@jupyter-widgets/base",
            "_model_module_version": "1.2.0",
            "_model_name": "LayoutModel",
            "_view_count": null,
            "_view_module": "@jupyter-widgets/base",
            "_view_module_version": "1.2.0",
            "_view_name": "LayoutView",
            "align_content": null,
            "align_items": null,
            "align_self": null,
            "border": null,
            "bottom": null,
            "display": null,
            "flex": null,
            "flex_flow": null,
            "grid_area": null,
            "grid_auto_columns": null,
            "grid_auto_flow": null,
            "grid_auto_rows": null,
            "grid_column": null,
            "grid_gap": null,
            "grid_row": null,
            "grid_template_areas": null,
            "grid_template_columns": null,
            "grid_template_rows": null,
            "height": null,
            "justify_content": null,
            "justify_items": null,
            "left": null,
            "margin": null,
            "max_height": null,
            "max_width": null,
            "min_height": null,
            "min_width": null,
            "object_fit": null,
            "object_position": null,
            "order": null,
            "overflow": null,
            "overflow_x": null,
            "overflow_y": null,
            "padding": null,
            "right": null,
            "top": null,
            "visibility": null,
            "width": null
          }
        },
        "23a22d045e75422e9db6efecddd3b32b": {
          "model_module": "@jupyter-widgets/base",
          "model_name": "LayoutModel",
          "model_module_version": "1.2.0",
          "state": {
            "_model_module": "@jupyter-widgets/base",
            "_model_module_version": "1.2.0",
            "_model_name": "LayoutModel",
            "_view_count": null,
            "_view_module": "@jupyter-widgets/base",
            "_view_module_version": "1.2.0",
            "_view_name": "LayoutView",
            "align_content": null,
            "align_items": null,
            "align_self": null,
            "border": null,
            "bottom": null,
            "display": null,
            "flex": null,
            "flex_flow": null,
            "grid_area": null,
            "grid_auto_columns": null,
            "grid_auto_flow": null,
            "grid_auto_rows": null,
            "grid_column": null,
            "grid_gap": null,
            "grid_row": null,
            "grid_template_areas": null,
            "grid_template_columns": null,
            "grid_template_rows": null,
            "height": null,
            "justify_content": null,
            "justify_items": null,
            "left": null,
            "margin": null,
            "max_height": null,
            "max_width": null,
            "min_height": null,
            "min_width": null,
            "object_fit": null,
            "object_position": null,
            "order": null,
            "overflow": null,
            "overflow_x": null,
            "overflow_y": null,
            "padding": null,
            "right": null,
            "top": null,
            "visibility": null,
            "width": null
          }
        },
        "895c060f340440a6af86d012d17c7d2e": {
          "model_module": "@jupyter-widgets/controls",
          "model_name": "DescriptionStyleModel",
          "model_module_version": "1.5.0",
          "state": {
            "_model_module": "@jupyter-widgets/controls",
            "_model_module_version": "1.5.0",
            "_model_name": "DescriptionStyleModel",
            "_view_count": null,
            "_view_module": "@jupyter-widgets/base",
            "_view_module_version": "1.2.0",
            "_view_name": "StyleView",
            "description_width": ""
          }
        },
        "fcadae74b22d495687f5f64ea02eef69": {
          "model_module": "@jupyter-widgets/base",
          "model_name": "LayoutModel",
          "model_module_version": "1.2.0",
          "state": {
            "_model_module": "@jupyter-widgets/base",
            "_model_module_version": "1.2.0",
            "_model_name": "LayoutModel",
            "_view_count": null,
            "_view_module": "@jupyter-widgets/base",
            "_view_module_version": "1.2.0",
            "_view_name": "LayoutView",
            "align_content": null,
            "align_items": null,
            "align_self": null,
            "border": null,
            "bottom": null,
            "display": null,
            "flex": null,
            "flex_flow": null,
            "grid_area": null,
            "grid_auto_columns": null,
            "grid_auto_flow": null,
            "grid_auto_rows": null,
            "grid_column": null,
            "grid_gap": null,
            "grid_row": null,
            "grid_template_areas": null,
            "grid_template_columns": null,
            "grid_template_rows": null,
            "height": null,
            "justify_content": null,
            "justify_items": null,
            "left": null,
            "margin": null,
            "max_height": null,
            "max_width": null,
            "min_height": null,
            "min_width": null,
            "object_fit": null,
            "object_position": null,
            "order": null,
            "overflow": null,
            "overflow_x": null,
            "overflow_y": null,
            "padding": null,
            "right": null,
            "top": null,
            "visibility": null,
            "width": null
          }
        },
        "01e5b3f6db1b48e9b91ae65e59cce5be": {
          "model_module": "@jupyter-widgets/controls",
          "model_name": "ProgressStyleModel",
          "model_module_version": "1.5.0",
          "state": {
            "_model_module": "@jupyter-widgets/controls",
            "_model_module_version": "1.5.0",
            "_model_name": "ProgressStyleModel",
            "_view_count": null,
            "_view_module": "@jupyter-widgets/base",
            "_view_module_version": "1.2.0",
            "_view_name": "StyleView",
            "bar_color": null,
            "description_width": ""
          }
        },
        "db0fb38a9da04fb8afc5a06e51f21a29": {
          "model_module": "@jupyter-widgets/controls",
          "model_name": "VBoxModel",
          "model_module_version": "1.5.0",
          "state": {
            "_dom_classes": [],
            "_model_module": "@jupyter-widgets/controls",
            "_model_module_version": "1.5.0",
            "_model_name": "VBoxModel",
            "_view_count": null,
            "_view_module": "@jupyter-widgets/controls",
            "_view_module_version": "1.5.0",
            "_view_name": "VBoxView",
            "box_style": "",
            "children": [
              "IPY_MODEL_9a86d1cd6be4473c879c3d38df71b726",
              "IPY_MODEL_c8463de9d02a4357a36a2b0798cb7d6a"
            ],
            "layout": "IPY_MODEL_ceebcb7da5cc4af7b2b24682ef338c37"
          }
        },
        "9a86d1cd6be4473c879c3d38df71b726": {
          "model_module": "@jupyter-widgets/controls",
          "model_name": "LabelModel",
          "model_module_version": "1.5.0",
          "state": {
            "_dom_classes": [],
            "_model_module": "@jupyter-widgets/controls",
            "_model_module_version": "1.5.0",
            "_model_name": "LabelModel",
            "_view_count": null,
            "_view_module": "@jupyter-widgets/controls",
            "_view_module_version": "1.5.0",
            "_view_name": "LabelView",
            "description": "",
            "description_tooltip": null,
            "layout": "IPY_MODEL_0ed8921aba924ade951ba3ada1af0cf7",
            "placeholder": "​",
            "style": "IPY_MODEL_7cde3be67d4e4d2eac26b2ed2c30d4ee",
            "value": "1.208 MB of 1.216 MB uploaded (0.000 MB deduped)\r"
          }
        },
        "c8463de9d02a4357a36a2b0798cb7d6a": {
          "model_module": "@jupyter-widgets/controls",
          "model_name": "FloatProgressModel",
          "model_module_version": "1.5.0",
          "state": {
            "_dom_classes": [],
            "_model_module": "@jupyter-widgets/controls",
            "_model_module_version": "1.5.0",
            "_model_name": "FloatProgressModel",
            "_view_count": null,
            "_view_module": "@jupyter-widgets/controls",
            "_view_module_version": "1.5.0",
            "_view_name": "ProgressView",
            "bar_style": "",
            "description": "",
            "description_tooltip": null,
            "layout": "IPY_MODEL_8ccfd4b31565430ca2c39c2d158fff40",
            "max": 1,
            "min": 0,
            "orientation": "horizontal",
            "style": "IPY_MODEL_d118036f59cc4d11b128822458024477",
            "value": 0.9927046614900209
          }
        },
        "ceebcb7da5cc4af7b2b24682ef338c37": {
          "model_module": "@jupyter-widgets/base",
          "model_name": "LayoutModel",
          "model_module_version": "1.2.0",
          "state": {
            "_model_module": "@jupyter-widgets/base",
            "_model_module_version": "1.2.0",
            "_model_name": "LayoutModel",
            "_view_count": null,
            "_view_module": "@jupyter-widgets/base",
            "_view_module_version": "1.2.0",
            "_view_name": "LayoutView",
            "align_content": null,
            "align_items": null,
            "align_self": null,
            "border": null,
            "bottom": null,
            "display": null,
            "flex": null,
            "flex_flow": null,
            "grid_area": null,
            "grid_auto_columns": null,
            "grid_auto_flow": null,
            "grid_auto_rows": null,
            "grid_column": null,
            "grid_gap": null,
            "grid_row": null,
            "grid_template_areas": null,
            "grid_template_columns": null,
            "grid_template_rows": null,
            "height": null,
            "justify_content": null,
            "justify_items": null,
            "left": null,
            "margin": null,
            "max_height": null,
            "max_width": null,
            "min_height": null,
            "min_width": null,
            "object_fit": null,
            "object_position": null,
            "order": null,
            "overflow": null,
            "overflow_x": null,
            "overflow_y": null,
            "padding": null,
            "right": null,
            "top": null,
            "visibility": null,
            "width": null
          }
        },
        "0ed8921aba924ade951ba3ada1af0cf7": {
          "model_module": "@jupyter-widgets/base",
          "model_name": "LayoutModel",
          "model_module_version": "1.2.0",
          "state": {
            "_model_module": "@jupyter-widgets/base",
            "_model_module_version": "1.2.0",
            "_model_name": "LayoutModel",
            "_view_count": null,
            "_view_module": "@jupyter-widgets/base",
            "_view_module_version": "1.2.0",
            "_view_name": "LayoutView",
            "align_content": null,
            "align_items": null,
            "align_self": null,
            "border": null,
            "bottom": null,
            "display": null,
            "flex": null,
            "flex_flow": null,
            "grid_area": null,
            "grid_auto_columns": null,
            "grid_auto_flow": null,
            "grid_auto_rows": null,
            "grid_column": null,
            "grid_gap": null,
            "grid_row": null,
            "grid_template_areas": null,
            "grid_template_columns": null,
            "grid_template_rows": null,
            "height": null,
            "justify_content": null,
            "justify_items": null,
            "left": null,
            "margin": null,
            "max_height": null,
            "max_width": null,
            "min_height": null,
            "min_width": null,
            "object_fit": null,
            "object_position": null,
            "order": null,
            "overflow": null,
            "overflow_x": null,
            "overflow_y": null,
            "padding": null,
            "right": null,
            "top": null,
            "visibility": null,
            "width": null
          }
        },
        "7cde3be67d4e4d2eac26b2ed2c30d4ee": {
          "model_module": "@jupyter-widgets/controls",
          "model_name": "DescriptionStyleModel",
          "model_module_version": "1.5.0",
          "state": {
            "_model_module": "@jupyter-widgets/controls",
            "_model_module_version": "1.5.0",
            "_model_name": "DescriptionStyleModel",
            "_view_count": null,
            "_view_module": "@jupyter-widgets/base",
            "_view_module_version": "1.2.0",
            "_view_name": "StyleView",
            "description_width": ""
          }
        },
        "8ccfd4b31565430ca2c39c2d158fff40": {
          "model_module": "@jupyter-widgets/base",
          "model_name": "LayoutModel",
          "model_module_version": "1.2.0",
          "state": {
            "_model_module": "@jupyter-widgets/base",
            "_model_module_version": "1.2.0",
            "_model_name": "LayoutModel",
            "_view_count": null,
            "_view_module": "@jupyter-widgets/base",
            "_view_module_version": "1.2.0",
            "_view_name": "LayoutView",
            "align_content": null,
            "align_items": null,
            "align_self": null,
            "border": null,
            "bottom": null,
            "display": null,
            "flex": null,
            "flex_flow": null,
            "grid_area": null,
            "grid_auto_columns": null,
            "grid_auto_flow": null,
            "grid_auto_rows": null,
            "grid_column": null,
            "grid_gap": null,
            "grid_row": null,
            "grid_template_areas": null,
            "grid_template_columns": null,
            "grid_template_rows": null,
            "height": null,
            "justify_content": null,
            "justify_items": null,
            "left": null,
            "margin": null,
            "max_height": null,
            "max_width": null,
            "min_height": null,
            "min_width": null,
            "object_fit": null,
            "object_position": null,
            "order": null,
            "overflow": null,
            "overflow_x": null,
            "overflow_y": null,
            "padding": null,
            "right": null,
            "top": null,
            "visibility": null,
            "width": null
          }
        },
        "d118036f59cc4d11b128822458024477": {
          "model_module": "@jupyter-widgets/controls",
          "model_name": "ProgressStyleModel",
          "model_module_version": "1.5.0",
          "state": {
            "_model_module": "@jupyter-widgets/controls",
            "_model_module_version": "1.5.0",
            "_model_name": "ProgressStyleModel",
            "_view_count": null,
            "_view_module": "@jupyter-widgets/base",
            "_view_module_version": "1.2.0",
            "_view_name": "StyleView",
            "bar_color": null,
            "description_width": ""
          }
        }
      }
    }
  },
  "cells": [
    {
      "cell_type": "markdown",
      "metadata": {
        "id": "view-in-github",
        "colab_type": "text"
      },
      "source": [
        "<a href=\"https://colab.research.google.com/github/NAGADEEP92/AI-ML-DS/blob/main/KERASCV_Keras_Core_KerasCV.ipynb\" target=\"_parent\"><img src=\"https://colab.research.google.com/assets/colab-badge.svg\" alt=\"Open In Colab\"/></a>"
      ]
    },
    {
      "cell_type": "markdown",
      "source": [
        "# KerasCV Stable Diffusion Multi-backend demo\n",
        "\n",
        "### Author: Suvaditya Mukherjee"
      ],
      "metadata": {
        "id": "RtViBgErVbm3"
      }
    },
    {
      "cell_type": "markdown",
      "source": [
        "## `pip` Package installations"
      ],
      "metadata": {
        "id": "R21Saq4fVl-e"
      }
    },
    {
      "cell_type": "code",
      "source": [
        "!pip install keras_core keras_cv wandb -qqq"
      ],
      "metadata": {
        "colab": {
          "base_uri": "https://localhost:8080/"
        },
        "id": "b94ICwLtYmui",
        "outputId": "26453cca-cce7-498a-ec3f-0238f1ebb084"
      },
      "execution_count": null,
      "outputs": [
        {
          "output_type": "stream",
          "name": "stdout",
          "text": [
            "\u001b[2K     \u001b[90m━━━━━━━━━━━━━━━━━━━━━━━━━━━━━━━━━━━━━━\u001b[0m \u001b[32m728.0/728.0 kB\u001b[0m \u001b[31m20.2 MB/s\u001b[0m eta \u001b[36m0:00:00\u001b[0m\n",
            "\u001b[2K     \u001b[90m━━━━━━━━━━━━━━━━━━━━━━━━━━━━━━━━━━━━━━\u001b[0m \u001b[32m756.2/756.2 kB\u001b[0m \u001b[31m64.4 MB/s\u001b[0m eta \u001b[36m0:00:00\u001b[0m\n",
            "\u001b[2K     \u001b[90m━━━━━━━━━━━━━━━━━━━━━━━━━━━━━━━━━━━━━━━━\u001b[0m \u001b[32m2.1/2.1 MB\u001b[0m \u001b[31m82.3 MB/s\u001b[0m eta \u001b[36m0:00:00\u001b[0m\n",
            "\u001b[2K     \u001b[90m━━━━━━━━━━━━━━━━━━━━━━━━━━━━━━━━━━━━━━\u001b[0m \u001b[32m188.5/188.5 kB\u001b[0m \u001b[31m18.0 MB/s\u001b[0m eta \u001b[36m0:00:00\u001b[0m\n",
            "\u001b[2K     \u001b[90m━━━━━━━━━━━━━━━━━━━━━━━━━━━━━━━━━━━━━━\u001b[0m \u001b[32m214.7/214.7 kB\u001b[0m \u001b[31m25.5 MB/s\u001b[0m eta \u001b[36m0:00:00\u001b[0m\n",
            "\u001b[?25h  Preparing metadata (setup.py) ... \u001b[?25l\u001b[?25hdone\n",
            "\u001b[2K     \u001b[90m━━━━━━━━━━━━━━━━━━━━━━━━━━━━━━━━━━━━━━━━\u001b[0m \u001b[32m62.7/62.7 kB\u001b[0m \u001b[31m7.9 MB/s\u001b[0m eta \u001b[36m0:00:00\u001b[0m\n",
            "\u001b[?25h  Building wheel for pathtools (setup.py) ... \u001b[?25l\u001b[?25hdone\n"
          ]
        }
      ]
    },
    {
      "cell_type": "markdown",
      "source": [
        "## Stable Diffusion with `torch` backend"
      ],
      "metadata": {
        "id": "-veZ6zWWVt6m"
      }
    },
    {
      "cell_type": "markdown",
      "source": [
        "### Import statements"
      ],
      "metadata": {
        "id": "c7Ji779YVpx8"
      }
    },
    {
      "cell_type": "code",
      "execution_count": null,
      "metadata": {
        "colab": {
          "base_uri": "https://localhost:8080/"
        },
        "id": "1WN1e9GhV2_A",
        "outputId": "0d2a52f2-f5fa-4ae6-fd45-1964bbf1ee0d"
      },
      "outputs": [
        {
          "output_type": "stream",
          "name": "stdout",
          "text": [
            "Using PyTorch backend.\n"
          ]
        }
      ],
      "source": [
        "import os\n",
        "\n",
        "os.environ['KERAS_BACKEND'] = 'torch'\n",
        "\n",
        "import keras_core as keras\n",
        "import keras_cv\n",
        "import wandb\n",
        "import time"
      ]
    },
    {
      "cell_type": "markdown",
      "source": [
        "### Define and warm up the model"
      ],
      "metadata": {
        "id": "hE5V0r45WV1r"
      }
    },
    {
      "cell_type": "code",
      "source": [
        "keras.mixed_precision.set_global_policy(\"mixed_float16\")\n",
        "\n",
        "wandb.init(\n",
        "    project=\"io-extended-sd-keras_core\"\n",
        ")\n",
        "\n",
        "wandb.config = {\n",
        "    \"img_height\":512,\n",
        "    \"img_width\":512,\n",
        "}\n",
        "\n",
        "\n",
        "model = keras_cv.models.StableDiffusion(\n",
        "    img_width=512,\n",
        "    img_height=512,\n",
        "    jit_compile=True\n",
        ")\n",
        "\n",
        "# Warming up the model\n",
        "model.text_to_image(\"warm-up the model\", batch_size=3)\n",
        "print(\"Warm up done\")"
      ],
      "metadata": {
        "id": "CXUYoWbG3ASg"
      },
      "execution_count": null,
      "outputs": []
    },
    {
      "cell_type": "markdown",
      "source": [
        "### Perform generation"
      ],
      "metadata": {
        "id": "88ffWnSGWXwA"
      }
    },
    {
      "cell_type": "code",
      "source": [
        "start = time.time()\n",
        "images = model.text_to_image(\n",
        "    \"wolverine trying to pick a lock with his claws\",\n",
        "    batch_size = 3\n",
        ")\n",
        "end = time.time()\n",
        "\n",
        "images = [wandb.Image(\n",
        "    image,\n",
        "    caption=f\"XLA, Mixed-Precision, in PyTorch - Example {idx+1}\"\n",
        ") for idx, image in enumerate(images)]\n",
        "\n",
        "wandb.log({\"Examples\": images, \"Generation Time\":end-start})"
      ],
      "metadata": {
        "colab": {
          "base_uri": "https://localhost:8080/"
        },
        "id": "AiqY-ZNzWbbi",
        "outputId": "75aa6caa-711d-4af7-cb31-6f736be300c8"
      },
      "execution_count": null,
      "outputs": [
        {
          "output_type": "stream",
          "name": "stdout",
          "text": [
            "50/50 [==============================] - 104s 2s/step\n"
          ]
        }
      ]
    },
    {
      "cell_type": "markdown",
      "source": [
        "### Release memory"
      ],
      "metadata": {
        "id": "sDllGFBBWaNK"
      }
    },
    {
      "cell_type": "code",
      "source": [
        "del model\n",
        "keras.backend.clear_session()\n",
        "\n",
        "wandb.finish()"
      ],
      "metadata": {
        "colab": {
          "base_uri": "https://localhost:8080/",
          "height": 284,
          "referenced_widgets": [
            "dc3a6cb60ce446118db87f5994c8fe84",
            "27ce9058c925433db661bdda28505357",
            "a0388d5ef30d4840b32ccd310c3634d9",
            "0e6da8d1d33f4660996db9a856092bab",
            "23a22d045e75422e9db6efecddd3b32b",
            "895c060f340440a6af86d012d17c7d2e",
            "fcadae74b22d495687f5f64ea02eef69",
            "01e5b3f6db1b48e9b91ae65e59cce5be"
          ]
        },
        "id": "hQkaG7dxWbPU",
        "outputId": "4aae6ef1-d995-4b4a-ead4-03cfb743e2b5"
      },
      "execution_count": null,
      "outputs": [
        {
          "output_type": "display_data",
          "data": {
            "text/plain": [
              "<IPython.core.display.HTML object>"
            ],
            "text/html": [
              "Waiting for W&B process to finish... <strong style=\"color:green\">(success).</strong>"
            ]
          },
          "metadata": {}
        },
        {
          "output_type": "display_data",
          "data": {
            "text/plain": [
              "VBox(children=(Label(value='1.327 MB of 1.327 MB uploaded (0.000 MB deduped)\\r'), FloatProgress(value=1.0, max…"
            ],
            "application/vnd.jupyter.widget-view+json": {
              "version_major": 2,
              "version_minor": 0,
              "model_id": "dc3a6cb60ce446118db87f5994c8fe84"
            }
          },
          "metadata": {}
        },
        {
          "output_type": "display_data",
          "data": {
            "text/plain": [
              "<IPython.core.display.HTML object>"
            ],
            "text/html": [
              "<style>\n",
              "    table.wandb td:nth-child(1) { padding: 0 10px; text-align: left ; width: auto;} td:nth-child(2) {text-align: left ; width: 100%}\n",
              "    .wandb-row { display: flex; flex-direction: row; flex-wrap: wrap; justify-content: flex-start; width: 100% }\n",
              "    .wandb-col { display: flex; flex-direction: column; flex-basis: 100%; flex: 1; padding: 10px; }\n",
              "    </style>\n",
              "<div class=\"wandb-row\"><div class=\"wandb-col\"><h3>Run history:</h3><br/><table class=\"wandb\"><tr><td>Generation Time</td><td>▁</td></tr></table><br/></div><div class=\"wandb-col\"><h3>Run summary:</h3><br/><table class=\"wandb\"><tr><td>Generation Time</td><td>105.79374</td></tr></table><br/></div></div>"
            ]
          },
          "metadata": {}
        },
        {
          "output_type": "display_data",
          "data": {
            "text/plain": [
              "<IPython.core.display.HTML object>"
            ],
            "text/html": [
              " View run <strong style=\"color:#cdcd00\">vibrant-haze-4</strong> at: <a href='https://wandb.ai/suvadityamuk/io-extended-sd-keras_core/runs/5yzfxbqn' target=\"_blank\">https://wandb.ai/suvadityamuk/io-extended-sd-keras_core/runs/5yzfxbqn</a><br/>Synced 5 W&B file(s), 3 media file(s), 0 artifact file(s) and 0 other file(s)"
            ]
          },
          "metadata": {}
        },
        {
          "output_type": "display_data",
          "data": {
            "text/plain": [
              "<IPython.core.display.HTML object>"
            ],
            "text/html": [
              "Find logs at: <code>./wandb/run-20230716_062840-5yzfxbqn/logs</code>"
            ]
          },
          "metadata": {}
        }
      ]
    },
    {
      "cell_type": "markdown",
      "source": [
        "## Stable Diffusion with `JAX` backend"
      ],
      "metadata": {
        "id": "f4ByppyTVzb5"
      }
    },
    {
      "cell_type": "code",
      "execution_count": null,
      "metadata": {
        "colab": {
          "base_uri": "https://localhost:8080/"
        },
        "outputId": "bd78df8e-ed6c-4235-e3ce-db28d28581f2",
        "id": "AI6HdPA30uld"
      },
      "outputs": [
        {
          "output_type": "stream",
          "name": "stdout",
          "text": [
            "Using JAX backend.\n"
          ]
        }
      ],
      "source": [
        "import os\n",
        "\n",
        "os.environ['KERAS_BACKEND'] = 'jax'\n",
        "\n",
        "import keras_core as keras\n",
        "import keras_cv\n",
        "import wandb\n",
        "import time"
      ]
    },
    {
      "cell_type": "markdown",
      "source": [
        "### Define and warm up the model"
      ],
      "metadata": {
        "id": "GG2loompXdTA"
      }
    },
    {
      "cell_type": "code",
      "source": [
        "keras.mixed_precision.set_global_policy(\"mixed_float16\")\n",
        "\n",
        "wandb.init(\n",
        "    project=\"io-extended-sd-keras_core\"\n",
        ")\n",
        "\n",
        "wandb.config = {\n",
        "    \"img_height\":512,\n",
        "    \"img_width\":512,\n",
        "}\n",
        "\n",
        "\n",
        "model = keras_cv.models.StableDiffusion(\n",
        "    img_width=512,\n",
        "    img_height=512,\n",
        "    jit_compile=True\n",
        ")\n",
        "\n",
        "# Warming up the model\n",
        "model.text_to_image(\"warm-up the model\", batch_size=3)"
      ],
      "metadata": {
        "colab": {
          "base_uri": "https://localhost:8080/",
          "height": 1000
        },
        "id": "wt-5DjiRXolT",
        "outputId": "82aa38b4-f6ed-4b85-c9c8-32d24cc7f93a"
      },
      "execution_count": null,
      "outputs": [
        {
          "output_type": "stream",
          "name": "stderr",
          "text": [
            "\u001b[34m\u001b[1mwandb\u001b[0m: Currently logged in as: \u001b[33msuvadityamuk\u001b[0m. Use \u001b[1m`wandb login --relogin`\u001b[0m to force relogin\n"
          ]
        },
        {
          "output_type": "display_data",
          "data": {
            "text/plain": [
              "<IPython.core.display.HTML object>"
            ],
            "text/html": [
              "Tracking run with wandb version 0.15.5"
            ]
          },
          "metadata": {}
        },
        {
          "output_type": "display_data",
          "data": {
            "text/plain": [
              "<IPython.core.display.HTML object>"
            ],
            "text/html": [
              "Run data is saved locally in <code>/content/wandb/run-20230716_064558-voo83yaf</code>"
            ]
          },
          "metadata": {}
        },
        {
          "output_type": "display_data",
          "data": {
            "text/plain": [
              "<IPython.core.display.HTML object>"
            ],
            "text/html": [
              "Syncing run <strong><a href='https://wandb.ai/suvadityamuk/io-extended-sd-keras_core/runs/voo83yaf' target=\"_blank\">fast-puddle-5</a></strong> to <a href='https://wandb.ai/suvadityamuk/io-extended-sd-keras_core' target=\"_blank\">Weights & Biases</a> (<a href='https://wandb.me/run' target=\"_blank\">docs</a>)<br/>"
            ]
          },
          "metadata": {}
        },
        {
          "output_type": "display_data",
          "data": {
            "text/plain": [
              "<IPython.core.display.HTML object>"
            ],
            "text/html": [
              " View project at <a href='https://wandb.ai/suvadityamuk/io-extended-sd-keras_core' target=\"_blank\">https://wandb.ai/suvadityamuk/io-extended-sd-keras_core</a>"
            ]
          },
          "metadata": {}
        },
        {
          "output_type": "display_data",
          "data": {
            "text/plain": [
              "<IPython.core.display.HTML object>"
            ],
            "text/html": [
              " View run at <a href='https://wandb.ai/suvadityamuk/io-extended-sd-keras_core/runs/voo83yaf' target=\"_blank\">https://wandb.ai/suvadityamuk/io-extended-sd-keras_core/runs/voo83yaf</a>"
            ]
          },
          "metadata": {}
        },
        {
          "output_type": "stream",
          "name": "stdout",
          "text": [
            "By using this model checkpoint, you acknowledge that its usage is subject to the terms of the CreativeML Open RAIL-M license at https://raw.githubusercontent.com/CompVis/stable-diffusion/main/LICENSE\n",
            "50/50 [==============================] - 205s 2s/step\n"
          ]
        },
        {
          "output_type": "execute_result",
          "data": {
            "text/plain": [
              "array([[[[ 62,  64,  63],\n",
              "         [ 42,  43,  43],\n",
              "         [ 61,  57,  56],\n",
              "         ...,\n",
              "         [ 47,  47,  50],\n",
              "         [ 54,  54,  50],\n",
              "         [ 49,  47,  44]],\n",
              "\n",
              "        [[ 53,  56,  56],\n",
              "         [ 23,  17,  23],\n",
              "         [ 43,  41,  44],\n",
              "         ...,\n",
              "         [ 53,  51,  53],\n",
              "         [ 30,  29,  25],\n",
              "         [ 44,  38,  38]],\n",
              "\n",
              "        [[ 59,  62,  59],\n",
              "         [ 49,  41,  45],\n",
              "         [ 60,  56,  59],\n",
              "         ...,\n",
              "         [ 49,  46,  48],\n",
              "         [ 33,  25,  29],\n",
              "         [ 46,  43,  44]],\n",
              "\n",
              "        ...,\n",
              "\n",
              "        [[ 30,  31,  30],\n",
              "         [ 52,  46,  48],\n",
              "         [ 68,  66,  67],\n",
              "         ...,\n",
              "         [ 58,  58,  57],\n",
              "         [ 54,  49,  51],\n",
              "         [ 54,  50,  49]],\n",
              "\n",
              "        [[ 33,  34,  34],\n",
              "         [ 47,  40,  46],\n",
              "         [ 54,  53,  55],\n",
              "         ...,\n",
              "         [ 53,  52,  53],\n",
              "         [ 49,  45,  49],\n",
              "         [ 62,  61,  59]],\n",
              "\n",
              "        [[ 51,  49,  51],\n",
              "         [ 59,  58,  58],\n",
              "         [ 51,  50,  51],\n",
              "         ...,\n",
              "         [ 50,  49,  54],\n",
              "         [ 46,  45,  49],\n",
              "         [ 69,  63,  62]]],\n",
              "\n",
              "\n",
              "       [[[134, 104,  86],\n",
              "         [ 95,  65,  50],\n",
              "         [ 77,  58,  56],\n",
              "         ...,\n",
              "         [ 58,  61,  60],\n",
              "         [ 63,  64,  62],\n",
              "         [ 65,  64,  60]],\n",
              "\n",
              "        [[136,  93,  78],\n",
              "         [102,  71,  60],\n",
              "         [ 66,  55,  53],\n",
              "         ...,\n",
              "         [ 52,  52,  55],\n",
              "         [ 54,  53,  55],\n",
              "         [ 51,  47,  51]],\n",
              "\n",
              "        [[135,  89,  78],\n",
              "         [ 98,  69,  64],\n",
              "         [ 72,  62,  61],\n",
              "         ...,\n",
              "         [ 60,  59,  63],\n",
              "         [ 60,  59,  61],\n",
              "         [ 60,  60,  63]],\n",
              "\n",
              "        ...,\n",
              "\n",
              "        [[158,  91,  81],\n",
              "         [142,  85,  84],\n",
              "         [104,  80,  83],\n",
              "         ...,\n",
              "         [125,  78,  63],\n",
              "         [138,  70,  55],\n",
              "         [136,  65,  45]],\n",
              "\n",
              "        [[159,  96,  88],\n",
              "         [145,  84,  87],\n",
              "         [106,  76,  79],\n",
              "         ...,\n",
              "         [130,  75,  61],\n",
              "         [139,  71,  52],\n",
              "         [143,  75,  53]],\n",
              "\n",
              "        [[147,  98,  90],\n",
              "         [147,  93,  86],\n",
              "         [105,  70,  73],\n",
              "         ...,\n",
              "         [120,  74,  63],\n",
              "         [130,  75,  56],\n",
              "         [135,  87,  63]]],\n",
              "\n",
              "\n",
              "       [[[140, 141, 140],\n",
              "         [142, 140, 141],\n",
              "         [140, 139, 142],\n",
              "         ...,\n",
              "         [153, 154, 154],\n",
              "         [158, 160, 161],\n",
              "         [154, 156, 154]],\n",
              "\n",
              "        [[140, 139, 141],\n",
              "         [140, 140, 141],\n",
              "         [140, 140, 141],\n",
              "         ...,\n",
              "         [152, 151, 152],\n",
              "         [154, 154, 155],\n",
              "         [154, 154, 156]],\n",
              "\n",
              "        [[140, 139, 141],\n",
              "         [140, 138, 139],\n",
              "         [140, 140, 141],\n",
              "         ...,\n",
              "         [154, 154, 155],\n",
              "         [153, 153, 154],\n",
              "         [153, 154, 154]],\n",
              "\n",
              "        ...,\n",
              "\n",
              "        [[134, 134, 134],\n",
              "         [135, 133, 134],\n",
              "         [135, 135, 136],\n",
              "         ...,\n",
              "         [185, 187, 186],\n",
              "         [192, 190, 191],\n",
              "         [191, 191, 190]],\n",
              "\n",
              "        [[136, 138, 138],\n",
              "         [134, 133, 133],\n",
              "         [135, 133, 134],\n",
              "         ...,\n",
              "         [189, 190, 190],\n",
              "         [191, 192, 190],\n",
              "         [190, 191, 193]],\n",
              "\n",
              "        [[133, 133, 136],\n",
              "         [133, 134, 135],\n",
              "         [133, 133, 134],\n",
              "         ...,\n",
              "         [189, 191, 190],\n",
              "         [192, 192, 190],\n",
              "         [195, 200, 194]]]], dtype=uint8)"
            ]
          },
          "metadata": {},
          "execution_count": 2
        }
      ]
    },
    {
      "cell_type": "markdown",
      "source": [
        "### Perform generation"
      ],
      "metadata": {
        "id": "ab_liC9CXdht"
      }
    },
    {
      "cell_type": "code",
      "source": [
        "start = time.time()\n",
        "images = model.text_to_image(\n",
        "    \"wolverine trying to pick a lock with his claws\",\n",
        "    batch_size = 3\n",
        ")\n",
        "end = time.time()\n",
        "\n",
        "images = [wandb.Image(\n",
        "    image,\n",
        "    caption=f\"XLA, Mixed-Precision, in JAX - Example {idx+1}\"\n",
        ") for idx, image in enumerate(images)]\n",
        "\n",
        "wandb.log({\"Examples\": images, \"Generation Time\":end-start})"
      ],
      "metadata": {
        "colab": {
          "base_uri": "https://localhost:8080/"
        },
        "id": "jRhon0kOXubu",
        "outputId": "3c2f1326-5894-4010-a27c-441330d5540e"
      },
      "execution_count": null,
      "outputs": [
        {
          "output_type": "stream",
          "name": "stdout",
          "text": [
            "50/50 [==============================] - 105s 2s/step\n"
          ]
        }
      ]
    },
    {
      "cell_type": "markdown",
      "source": [
        "### Release memory"
      ],
      "metadata": {
        "id": "nsC5k9xpXdl_"
      }
    },
    {
      "cell_type": "code",
      "source": [
        "del model\n",
        "keras.backend.clear_session()\n",
        "\n",
        "wandb.finish()"
      ],
      "metadata": {
        "colab": {
          "base_uri": "https://localhost:8080/",
          "height": 284,
          "referenced_widgets": [
            "db0fb38a9da04fb8afc5a06e51f21a29",
            "9a86d1cd6be4473c879c3d38df71b726",
            "c8463de9d02a4357a36a2b0798cb7d6a",
            "ceebcb7da5cc4af7b2b24682ef338c37",
            "0ed8921aba924ade951ba3ada1af0cf7",
            "7cde3be67d4e4d2eac26b2ed2c30d4ee",
            "8ccfd4b31565430ca2c39c2d158fff40",
            "d118036f59cc4d11b128822458024477"
          ]
        },
        "outputId": "904ae2a8-fc1b-4b08-f920-821101dd2226",
        "id": "oYNuJaPo0ulf"
      },
      "execution_count": null,
      "outputs": [
        {
          "output_type": "display_data",
          "data": {
            "text/plain": [
              "<IPython.core.display.HTML object>"
            ],
            "text/html": [
              "Waiting for W&B process to finish... <strong style=\"color:green\">(success).</strong>"
            ]
          },
          "metadata": {}
        },
        {
          "output_type": "display_data",
          "data": {
            "text/plain": [
              "VBox(children=(Label(value='1.208 MB of 1.216 MB uploaded (0.000 MB deduped)\\r'), FloatProgress(value=0.992704…"
            ],
            "application/vnd.jupyter.widget-view+json": {
              "version_major": 2,
              "version_minor": 0,
              "model_id": "db0fb38a9da04fb8afc5a06e51f21a29"
            }
          },
          "metadata": {}
        },
        {
          "output_type": "display_data",
          "data": {
            "text/plain": [
              "<IPython.core.display.HTML object>"
            ],
            "text/html": [
              "<style>\n",
              "    table.wandb td:nth-child(1) { padding: 0 10px; text-align: left ; width: auto;} td:nth-child(2) {text-align: left ; width: 100%}\n",
              "    .wandb-row { display: flex; flex-direction: row; flex-wrap: wrap; justify-content: flex-start; width: 100% }\n",
              "    .wandb-col { display: flex; flex-direction: column; flex-basis: 100%; flex: 1; padding: 10px; }\n",
              "    </style>\n",
              "<div class=\"wandb-row\"><div class=\"wandb-col\"><h3>Run history:</h3><br/><table class=\"wandb\"><tr><td>Generation Time</td><td>▁</td></tr></table><br/></div><div class=\"wandb-col\"><h3>Run summary:</h3><br/><table class=\"wandb\"><tr><td>Generation Time</td><td>106.40664</td></tr></table><br/></div></div>"
            ]
          },
          "metadata": {}
        },
        {
          "output_type": "display_data",
          "data": {
            "text/plain": [
              "<IPython.core.display.HTML object>"
            ],
            "text/html": [
              " View run <strong style=\"color:#cdcd00\">fast-puddle-5</strong> at: <a href='https://wandb.ai/suvadityamuk/io-extended-sd-keras_core/runs/voo83yaf' target=\"_blank\">https://wandb.ai/suvadityamuk/io-extended-sd-keras_core/runs/voo83yaf</a><br/>Synced 5 W&B file(s), 3 media file(s), 0 artifact file(s) and 0 other file(s)"
            ]
          },
          "metadata": {}
        },
        {
          "output_type": "display_data",
          "data": {
            "text/plain": [
              "<IPython.core.display.HTML object>"
            ],
            "text/html": [
              "Find logs at: <code>./wandb/run-20230716_064558-voo83yaf/logs</code>"
            ]
          },
          "metadata": {}
        }
      ]
    },
    {
      "cell_type": "markdown",
      "source": [
        "## Stable Diffusion with `TensorFlow` backend"
      ],
      "metadata": {
        "id": "jxCqEuHdV3vk"
      }
    },
    {
      "cell_type": "code",
      "execution_count": null,
      "metadata": {
        "colab": {
          "base_uri": "https://localhost:8080/"
        },
        "outputId": "7e98ccab-a8c2-4060-c3d3-42476c10d350",
        "id": "2TdrQdID0zKt"
      },
      "outputs": [
        {
          "output_type": "stream",
          "name": "stdout",
          "text": [
            "Using JAX backend.\n"
          ]
        }
      ],
      "source": [
        "import os\n",
        "\n",
        "os.environ['KERAS_BACKEND'] = 'tensorflow'\n",
        "\n",
        "import keras_core as keras\n",
        "import keras_cv\n",
        "import wandb\n",
        "import time"
      ]
    },
    {
      "cell_type": "markdown",
      "source": [
        "### Define and warm up the model"
      ],
      "metadata": {
        "id": "x2o2qMfHX3SV"
      }
    },
    {
      "cell_type": "code",
      "source": [
        "keras.mixed_precision.set_global_policy(\"mixed_float16\")\n",
        "\n",
        "wandb.init(\n",
        "    project=\"io-extended-sd-keras_core\"\n",
        ")\n",
        "\n",
        "wandb.config = {\n",
        "    \"img_height\":512,\n",
        "    \"img_width\":512,\n",
        "}\n",
        "\n",
        "\n",
        "model = keras_cv.models.StableDiffusion(\n",
        "    img_width=512,\n",
        "    img_height=512,\n",
        "    jit_compile=True\n",
        ")\n",
        "\n",
        "# Warming up the model\n",
        "model.text_to_image(\"warm-up the model\", batch_size=3)"
      ],
      "metadata": {
        "id": "v7RtsGzrX3Wp"
      },
      "execution_count": null,
      "outputs": []
    },
    {
      "cell_type": "markdown",
      "source": [
        "### Perform generation"
      ],
      "metadata": {
        "id": "0pZjxD2lX3bj"
      }
    },
    {
      "cell_type": "code",
      "source": [
        "start = time.time()\n",
        "images_mp = model.text_to_image(\n",
        "    \"wolverine trying to pick a lock with his claws\",\n",
        "    batch_size = 3\n",
        ")\n",
        "end = time.time()\n",
        "\n",
        "images_mp = [wandb.Image(\n",
        "    image,\n",
        "    caption=f\"XLA, Mixed-Precision, in TensorFlow - Example {idx+1}\"\n",
        ") for idx, image in enumerate(images_mp)]\n",
        "\n",
        "wandb.log({\"Examples\": images_mp, \"Generation Time\":end-start})"
      ],
      "metadata": {
        "id": "xNtqOgLxX3gg"
      },
      "execution_count": null,
      "outputs": []
    },
    {
      "cell_type": "markdown",
      "source": [
        "### Release memory"
      ],
      "metadata": {
        "id": "zf32yuyhX30A"
      }
    },
    {
      "cell_type": "code",
      "source": [
        "del model\n",
        "keras.backend.clear_session()\n",
        "\n",
        "wandb.finish()"
      ],
      "metadata": {
        "colab": {
          "base_uri": "https://localhost:8080/",
          "height": 377
        },
        "outputId": "712c8fe2-aa36-4cb5-d218-b280f5c5d6c7",
        "id": "YsnbJvGs0zKu"
      },
      "execution_count": null,
      "outputs": [
        {
          "output_type": "stream",
          "name": "stderr",
          "text": [
            "\u001b[34m\u001b[1mwandb\u001b[0m: Currently logged in as: \u001b[33msuvadityamuk\u001b[0m. Use \u001b[1m`wandb login --relogin`\u001b[0m to force relogin\n"
          ]
        },
        {
          "output_type": "display_data",
          "data": {
            "text/plain": [
              "<IPython.core.display.HTML object>"
            ],
            "text/html": [
              "Tracking run with wandb version 0.15.5"
            ]
          },
          "metadata": {}
        },
        {
          "output_type": "display_data",
          "data": {
            "text/plain": [
              "<IPython.core.display.HTML object>"
            ],
            "text/html": [
              "Run data is saved locally in <code>/content/wandb/run-20230715_190309-ltofnf72</code>"
            ]
          },
          "metadata": {}
        },
        {
          "output_type": "display_data",
          "data": {
            "text/plain": [
              "<IPython.core.display.HTML object>"
            ],
            "text/html": [
              "Syncing run <strong><a href='https://wandb.ai/suvadityamuk/io-extended-sd-keras_core/runs/ltofnf72' target=\"_blank\">summer-jazz-3</a></strong> to <a href='https://wandb.ai/suvadityamuk/io-extended-sd-keras_core' target=\"_blank\">Weights & Biases</a> (<a href='https://wandb.me/run' target=\"_blank\">docs</a>)<br/>"
            ]
          },
          "metadata": {}
        },
        {
          "output_type": "display_data",
          "data": {
            "text/plain": [
              "<IPython.core.display.HTML object>"
            ],
            "text/html": [
              " View project at <a href='https://wandb.ai/suvadityamuk/io-extended-sd-keras_core' target=\"_blank\">https://wandb.ai/suvadityamuk/io-extended-sd-keras_core</a>"
            ]
          },
          "metadata": {}
        },
        {
          "output_type": "display_data",
          "data": {
            "text/plain": [
              "<IPython.core.display.HTML object>"
            ],
            "text/html": [
              " View run at <a href='https://wandb.ai/suvadityamuk/io-extended-sd-keras_core/runs/ltofnf72' target=\"_blank\">https://wandb.ai/suvadityamuk/io-extended-sd-keras_core/runs/ltofnf72</a>"
            ]
          },
          "metadata": {}
        },
        {
          "output_type": "stream",
          "name": "stdout",
          "text": [
            "By using this model checkpoint, you acknowledge that its usage is subject to the terms of the CreativeML Open RAIL-M license at https://raw.githubusercontent.com/CompVis/stable-diffusion/main/LICENSE\n",
            "50/50 [==============================] - 200s 2s/step\n",
            "50/50 [==============================] - 97s 2s/step\n"
          ]
        },
        {
          "output_type": "display_data",
          "data": {
            "text/plain": [
              "<IPython.core.display.HTML object>"
            ],
            "text/html": [
              "Waiting for W&B process to finish... <strong style=\"color:green\">(success).</strong>"
            ]
          },
          "metadata": {}
        },
        {
          "output_type": "display_data",
          "data": {
            "text/plain": [
              "<IPython.core.display.HTML object>"
            ],
            "text/html": [
              "<style>\n",
              "    table.wandb td:nth-child(1) { padding: 0 10px; text-align: left ; width: auto;} td:nth-child(2) {text-align: left ; width: 100%}\n",
              "    .wandb-row { display: flex; flex-direction: row; flex-wrap: wrap; justify-content: flex-start; width: 100% }\n",
              "    .wandb-col { display: flex; flex-direction: column; flex-basis: 100%; flex: 1; padding: 10px; }\n",
              "    </style>\n",
              "<div class=\"wandb-row\"><div class=\"wandb-col\"><h3>Run history:</h3><br/><table class=\"wandb\"><tr><td>Generation Time</td><td>▁</td></tr></table><br/></div><div class=\"wandb-col\"><h3>Run summary:</h3><br/><table class=\"wandb\"><tr><td>Generation Time</td><td>99.67967</td></tr></table><br/></div></div>"
            ]
          },
          "metadata": {}
        },
        {
          "output_type": "display_data",
          "data": {
            "text/plain": [
              "<IPython.core.display.HTML object>"
            ],
            "text/html": [
              " View run <strong style=\"color:#cdcd00\">summer-jazz-3</strong> at: <a href='https://wandb.ai/suvadityamuk/io-extended-sd-keras_core/runs/ltofnf72' target=\"_blank\">https://wandb.ai/suvadityamuk/io-extended-sd-keras_core/runs/ltofnf72</a><br/>Synced 5 W&B file(s), 3 media file(s), 0 artifact file(s) and 0 other file(s)"
            ]
          },
          "metadata": {}
        },
        {
          "output_type": "display_data",
          "data": {
            "text/plain": [
              "<IPython.core.display.HTML object>"
            ],
            "text/html": [
              "Find logs at: <code>./wandb/run-20230715_190309-ltofnf72/logs</code>"
            ]
          },
          "metadata": {}
        }
      ]
    },
    {
      "cell_type": "markdown",
      "source": [
        "## That's all!\n",
        "\n",
        "## धन्यवाद, नई दिल्ली!\n",
        "\n",
        "Suvaditya Mukherjee  \n",
        "[GitHub](http://github.com/suvadityamuk) | [Twitter](https://www.twitter.com/halcyonrayes)"
      ],
      "metadata": {
        "id": "r9fzEz_eYKd4"
      }
    }
  ]
}