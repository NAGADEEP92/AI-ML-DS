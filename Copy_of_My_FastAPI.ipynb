{
  "cells": [
    {
      "cell_type": "markdown",
      "metadata": {
        "id": "view-in-github",
        "colab_type": "text"
      },
      "source": [
        "<a href=\"https://colab.research.google.com/github/NAGADEEP92/AI-ML-DS/blob/main/Copy_of_My_FastAPI.ipynb\" target=\"_parent\"><img src=\"https://colab.research.google.com/assets/colab-badge.svg\" alt=\"Open In Colab\"/></a>"
      ]
    },
    {
      "cell_type": "markdown",
      "metadata": {
        "id": "gyTZfhftk8Tk"
      },
      "source": [
        "# Python FastAPI REST APIs - Introduction!"
      ]
    },
    {
      "cell_type": "markdown",
      "metadata": {
        "id": "RkQeQ2wSk8Tn"
      },
      "source": [
        "> by Thom Ives, PhD."
      ]
    },
    {
      "cell_type": "markdown",
      "metadata": {
        "id": "9VUOPzTEk8Tn"
      },
      "source": [
        "![Luffy Coding](Luffy_working_at_a_computer.jpg)"
      ]
    },
    {
      "cell_type": "markdown",
      "metadata": {
        "id": "rZ3qTymjk8To"
      },
      "source": [
        "![FastAPI Logo](fast_api_logo.png)"
      ]
    },
    {
      "cell_type": "markdown",
      "metadata": {
        "id": "oNUkn4FVk8Tp"
      },
      "source": [
        "FastAPI has become a great tool for a lot of my work.\n",
        "I am sure that I will stay with FastAPI for quite a while.\n",
        "I've already released many tools using it, and they work great."
      ]
    },
    {
      "cell_type": "markdown",
      "metadata": {
        "id": "6X-LjanEk8Tp"
      },
      "source": [
        "I wanted to share an introductory API using FastAPI with you.\n",
        "This one helped me to get my mind straight with it.\n",
        "I think that most of you can leverage from this simple API and take it much further.\n",
        "I will also share how I've gone about learning more about FastAPI."
      ]
    },
    {
      "cell_type": "markdown",
      "metadata": {
        "id": "KfkNyhL1k8Tq"
      },
      "source": [
        "For learning FastAPI, FastAPI has great tutorials at `fastapi.tiangolo.com`.\n",
        "I hope that you will check them out.\n",
        "I went through the main one above.\n",
        "I also went through `fastapi.tiangolo.com/tutorial/`.\n",
        "I was sold by FastAPI's automatically created documentation pages.\n",
        "These documentation pages can also be used to test your APIs.\n",
        "That's right.\n",
        "You don't need to immediately write your own HTTP method call scripts.\n",
        "Nor do you need to use something like Postman.\n",
        "It's all built right in."
      ]
    },
    {
      "cell_type": "markdown",
      "metadata": {
        "id": "sDOLSgUXk8Tq"
      },
      "source": [
        "## Prerequisites"
      ]
    },
    {
      "cell_type": "markdown",
      "metadata": {
        "id": "YSY9XhqVk8Tr"
      },
      "source": [
        "I recommend that we first create or activate our preferred Python virtual environment.\n",
        "Once you are in there, you will want to do the following `pip` installations.\n",
        "The first one, I trust, is obvious.\n",
        "The second one is the package that will serve your API.\n",
        "Note that it's a different package than the one used by Flask if you've used Flask for APIs.\n",
        "The third and last is simply the quickest way to obtain all the FastAPI goodies available."
      ]
    },
    {
      "cell_type": "code",
      "execution_count": null,
      "metadata": {
        "id": "dhGd_M0wk8Tr"
      },
      "outputs": [],
      "source": [
        "!pip install fastapi"
      ]
    },
    {
      "cell_type": "code",
      "execution_count": null,
      "metadata": {
        "id": "wmvtlx2ik8Tt"
      },
      "outputs": [],
      "source": [
        "!pip install \"uvicorn[standard]\""
      ]
    },
    {
      "cell_type": "code",
      "execution_count": null,
      "metadata": {
        "id": "56lSuKfCk8Tt"
      },
      "outputs": [],
      "source": [
        "!pip install \"fastapi[all]\""
      ]
    },
    {
      "cell_type": "markdown",
      "metadata": {
        "id": "V45y7w5wk8Tt"
      },
      "source": [
        "## The REST API Code"
      ]
    },
    {
      "cell_type": "markdown",
      "metadata": {
        "id": "v8j_NEZZk8Tu"
      },
      "source": [
        "I'll cover and comment on the entire code base first.\n",
        "I can't say what's best, but I recommend going through the tutorials at FastAPI first at least a little bit.\n",
        "However, if a good portion of this makes sense to you, it would be OK to start with this code.\n",
        "Regardless of when you look at FastAPI's learning materials, __PLEASE__ __DO__ look at them.\n",
        "I do not regard this overview of FastAPI as a tutorial worthy of use in isolation.\n",
        "PLEASE study other sources too.\n",
        "However, even IF I had the best FastAPI tutorial around, I'd still encourage you to look at other material to gain greater understanding of it."
      ]
    },
    {
      "cell_type": "markdown",
      "metadata": {
        "id": "gYL3ZGQyk8Tu"
      },
      "source": [
        "All that said, I gave this tutorial to a friend a while back that needed to learn FastAPI ASAP, and it really did help them to come up to speed on FastAPI quickly."
      ]
    },
    {
      "cell_type": "markdown",
      "metadata": {
        "id": "YxiquLspk8Tv"
      },
      "source": [
        "I do at least recommend that you become familiar with decorators through some web searching if they are foreign to you.\n",
        "An example of a decorator below is `@app.get(\"/items\")`.\n",
        "I like to think of decorators as a Pythonic elegant way to have Python wrap the functions below the decorator in a standard well defined way.\n",
        "They will seem magic until you study how to create your own.\n",
        "To me, they are one of those elegant Pythonic things like context managers.\n",
        "I very much appreciate them."
      ]
    },
    {
      "cell_type": "markdown",
      "metadata": {
        "id": "SO4uqk9zk8Tw"
      },
      "source": [
        "### Imports"
      ]
    },
    {
      "cell_type": "markdown",
      "metadata": {
        "id": "LpX3lPVgk8Tw"
      },
      "source": [
        "Note that you do NOT need line 1 if using Python 3.10 or greater.\n",
        "\n",
        "Also __NOTE__ that I am being DRY with my own Python - I am importing a library that has some reliable JSON IO tools that I've come to rely on.\n",
        "Feel free to go grab them, OR you can replace my JSON IO methods with your own."
      ]
    },
    {
      "cell_type": "code",
      "execution_count": null,
      "metadata": {
        "id": "lKqo_X8wk8Tw"
      },
      "outputs": [],
      "source": [
        "from typing import Union\n",
        "\n",
        "from fastapi import FastAPI\n",
        "from pydantic import BaseModel\n",
        "\n",
        "import __General_Tools_Module__ as gtm\n",
        "# The above module can be found at dagshub.com/ThomIves/Python_Tools"
      ]
    },
    {
      "cell_type": "markdown",
      "metadata": {
        "id": "AuCm5aLGk8Tw"
      },
      "source": [
        "### Necessary Declarations"
      ]
    },
    {
      "cell_type": "markdown",
      "metadata": {
        "id": "DNl1Khmtk8Tx"
      },
      "source": [
        "IF you've done some Python based API work in the past, the first statement should be expected.\n",
        "If this is completely new to you, I just want you to know that the line below is __ESSENTIAL__ to your application."
      ]
    },
    {
      "cell_type": "code",
      "execution_count": null,
      "metadata": {
        "id": "qKbT4k6Xk8Tx"
      },
      "outputs": [],
      "source": [
        "app = FastAPI()"
      ]
    },
    {
      "cell_type": "markdown",
      "metadata": {
        "id": "O_GcQAD4k8Ty"
      },
      "source": [
        "I've noticed that FastAPI practitioners love using Pydantic models.\n",
        "I do not want to cover them in detail here.\n",
        "Let me just say that I've found that in order to learn to appreciate something, you've got to use it for a while.\n",
        "They have been VERY helpful so far and have helped me to make my APIs much more manageable."
      ]
    },
    {
      "cell_type": "code",
      "execution_count": null,
      "metadata": {
        "id": "w6xpr-7vk8Ty"
      },
      "outputs": [],
      "source": [
        "class Client(BaseModel):\n",
        "    client_id: str\n",
        "    name: str\n",
        "    company: str"
      ]
    },
    {
      "cell_type": "markdown",
      "metadata": {
        "id": "BOdBXuMyk8Ty"
      },
      "source": [
        "When building APIs, we normally use the following specific HTTP methods:\n",
        "\n",
        "* POST: to add complete new records to our data.\n",
        "* GET: to read our existing data records.\n",
        "* PUT: to update existing data.\n",
        "* DELETE: to delete a specific record from our data.\n",
        "\n",
        "In OpenAPI, each of the HTTP methods are also called an \"operation\"."
      ]
    },
    {
      "cell_type": "markdown",
      "metadata": {
        "id": "RMydVHf-k8Ty"
      },
      "source": [
        "First, we create our GET method for our API. __NOTE__ that I am calling a function, from my `__General_Tools_Module__` aliased as `gtm`, called `load_object_from_json_file`. Again, if you don't want to go find and use mine, what you need at this point is a function that will open a dictionary stored in a json file and that will return an empty dictionary IF that json file has not yet been created. This function only reads the contents of a `json` file and then uses the `json` module to convert the contents to a Python object."
      ]
    },
    {
      "cell_type": "markdown",
      "metadata": {
        "id": "diDvTIJZk8Ty"
      },
      "source": [
        "We are pretending, as we did in the last post, that we are a carrier development counseling firm, and this is our first \"tracer bullet\" type application for maintaining data on our clients."
      ]
    },
    {
      "cell_type": "code",
      "execution_count": null,
      "metadata": {
        "id": "Zow5JMJxk8Tz"
      },
      "outputs": [],
      "source": [
        "@app.get(\"/items\")\n",
        "def get_clients_object():\n",
        "    data_D = gtm.load_object_from_json_file(\"my_clients.json\")\n",
        "    return {\"clients dictionary\": data_D}"
      ]
    },
    {
      "cell_type": "markdown",
      "metadata": {
        "id": "HcDTMKu9k8Tz"
      },
      "source": [
        "The POST method is expecting a client input of type Client defined previously that inherits from Pydantic's BaseModel class. We'll see shortly how to enter this and make calls for it from both the automatically generated documentation for this API and a python script. For now, notice that:\n",
        "1. we pass in a client object,\n",
        "1. we open our existing json data file and assign the contents to an object variable name - data_D,\n",
        "1. we add our new client to that object, if we have assigned a proper non-existing client_id, and store the object back to file,\n",
        "1. otherwise, if the client_id already exists, we inform that data entry person that the client_id already exists."
      ]
    },
    {
      "cell_type": "code",
      "execution_count": null,
      "metadata": {
        "id": "CSBWo5RBk8Tz"
      },
      "outputs": [],
      "source": [
        "@app.post(\"/items/client\")\n",
        "def add_new_client(client: Client):\n",
        "    data_D = gtm.load_object_from_json_file(\"my_clients.json\")\n",
        "    if client.client_id not in data_D:\n",
        "        data_D[client.client_id] = {\n",
        "            \"name\": client.name,\n",
        "            \"companies\": [client.company]\n",
        "        }\n",
        "        gtm.store_object_to_json_file(data_D, \"my_clients.json\")\n",
        "\n",
        "        return {\"message\": \"added new client\",\n",
        "            client.client_id: {\n",
        "                \"client_name\": client.name,\n",
        "                \"client_company\": [client.company]\n",
        "            }}\n",
        "\n",
        "    else:\n",
        "        return {\"message\": f\"Client ID {client.client_id} already exists\"}"
      ]
    },
    {
      "cell_type": "markdown",
      "metadata": {
        "id": "v1cMkyiPk8Tz"
      },
      "source": [
        "Since we are advising the carriers of our clients, we know that they will eventually seek to work at other companies.\n",
        "Thus, we need a PUT method to update the company work history of our clients.\n",
        "YES, we do need more data, but this is just a tracer bullet application for now.\n",
        "We will make additional improvements ASAP.\n",
        "For now, when needed, we pass in a client_id and a company name to add to our clients' employment history.\n",
        "If we try to use a non-existent client_id, we are informed of such."
      ]
    },
    {
      "cell_type": "code",
      "execution_count": null,
      "metadata": {
        "id": "O_ktO9sek8Tz"
      },
      "outputs": [],
      "source": [
        "@app.put(\"/users/{client_id}/items/{company}\")\n",
        "def update_client_records(client_id: str, company: str):\n",
        "    data_D = gtm.load_object_from_json_file(\"my_clients.json\")\n",
        "\n",
        "    if client_id in data_D:\n",
        "        data_D[client_id][\"companies\"] += [company]\n",
        "        gtm.store_object_to_json_file(data_D, \"my_clients.json\")\n",
        "\n",
        "        return {\"message\":\n",
        "            f\"Added {company} to company records for client {client_id}\"}\n",
        "    else:\n",
        "\n",
        "        return {\"message\": f\"Client ID {client_id} does not exist\"}"
      ]
    },
    {
      "cell_type": "markdown",
      "metadata": {
        "id": "cugsGlltk8T0"
      },
      "source": [
        "If, regretfully, we lose a client, we delete them from our records.\n",
        "I think it would be great to have a record of deleted clients in case they come back to us.\n",
        "That will go on our todo list for this API's ongoing development planning."
      ]
    },
    {
      "cell_type": "code",
      "execution_count": null,
      "metadata": {
        "id": "KvqogICKk8T1"
      },
      "outputs": [],
      "source": [
        "@app.delete(\"/users/{client_id}\")\n",
        "def delete_a_client(client_id: str):\n",
        "    data_D = gtm.load_object_from_json_file(\"my_clients.json\")\n",
        "    if client_id in data_D:\n",
        "        name = data_D[client_id][\"name\"]\n",
        "        del data_D[client_id]\n",
        "\n",
        "        gtm.store_object_to_json_file(data_D, \"my_clients.json\")\n",
        "\n",
        "        return {\"message\":\n",
        "            f\"Removed {name}, client {client_id}, from client records\"}\n",
        "    else:\n",
        "        return {\"message\": f\"Client ID {client_id} does not exist\"}"
      ]
    },
    {
      "cell_type": "markdown",
      "metadata": {
        "id": "CDUXcoNlk8T2"
      },
      "source": [
        "## Implementation"
      ]
    },
    {
      "cell_type": "markdown",
      "metadata": {
        "id": "VflUstNjk8T2"
      },
      "source": [
        "Well, that looks all wonderful in theory, but does this work?\n",
        "First, we have to start this script and make sure it launches on our local server using uvicorn.\n",
        "Then, we need to test each method.\n",
        "Let's test each method two different ways.\n",
        "Using the automatically generated documentation for this API that also allows us to execute each of our methods AND THEN using requests from Python scripts.\n",
        "I hope to add calls to these API endpoints to an interactive web page in the future, so that the web page is helping to control the various calls with a nice front end."
      ]
    },
    {
      "cell_type": "markdown",
      "metadata": {
        "id": "wZ6VBPrVk8T2"
      },
      "source": [
        "What does it look like when we start our API from the command line.\n",
        "AND how do we do that?\n",
        "Well, let me show you!\n",
        "We start our API from a command line terminal using the following line (__note__ that whatever the python script name of your API is, that's what you'd put in for My_FastAPI minus the .py part)."
      ]
    },
    {
      "cell_type": "markdown",
      "metadata": {
        "id": "zD8Ycsh5k8T2"
      },
      "source": [
        "### Launching The Uvicorn Server"
      ]
    },
    {
      "cell_type": "markdown",
      "metadata": {
        "id": "bFMctOczk8T3"
      },
      "source": [
        "`uvicorn My_FastAPI:app --reload`"
      ]
    },
    {
      "cell_type": "markdown",
      "metadata": {
        "id": "E6r6rrEkk8T9"
      },
      "source": [
        "If successful, your uvicorn server launch will look like the following:"
      ]
    },
    {
      "cell_type": "markdown",
      "metadata": {
        "id": "YHsu6vQFk8T-"
      },
      "source": [
        "```shell\n",
        "(py38std) thom@thom-PT5610:~/DagsHub_Repos/Flask_API_Work/My_FastAPI$ uvicorn My_FastAPI:app --reload\n",
        "INFO:     Will watch for changes in these directories: ['/home/thom/DagsHub_Repos/Flask_API_Work/My_FastAPI']\n",
        "INFO:     Uvicorn running on http://127.0.0.1:8000 (Press CTRL+C to quit)\n",
        "INFO:     Started reloader process [754596] using watchgod\n",
        "INFO:     Started server process [754598]\n",
        "INFO:     Waiting for application startup.\n",
        "INFO:     Application startup complete.\n",
        "```"
      ]
    },
    {
      "cell_type": "markdown",
      "metadata": {
        "id": "H_gOnxoOk8T-"
      },
      "source": [
        "If you are running, great!\n",
        "If not, go back through this document carefully, OR step through the FastAPI tutorials until you can find your issue.\n",
        "Many people forget to make sure their terminal is looking at the same directory that their API script is in.\n",
        "You may also have a typo in your\n",
        "\n",
        "`uvicorn <api-script-name-WITHOUT-.py>:app --reload`\n",
        "\n",
        "I hope it runs for you, because once it does, the rest of this will likely go pretty smoothly for you."
      ]
    },
    {
      "cell_type": "markdown",
      "metadata": {
        "id": "KWafyZcLk8T-"
      },
      "source": [
        "Next, let's open the amazingly good automatically generated document page for our API using the below line."
      ]
    },
    {
      "cell_type": "markdown",
      "metadata": {
        "id": "c_K2P9akk8T_"
      },
      "source": [
        "`http://127.0.0.1:8000/docs`"
      ]
    },
    {
      "cell_type": "markdown",
      "metadata": {
        "id": "ls0RVS9Ck8T_"
      },
      "source": [
        "![The Automatically Generated API Document Page](00_API_Doc_Page.png)"
      ]
    },
    {
      "cell_type": "markdown",
      "metadata": {
        "id": "oYz9nyyGk8T_"
      },
      "source": [
        "Let's NOT start out with the GET method, because that will only give us an empty dictionary, since we have not yet entered any data.\n",
        "Let's first enter some data by using the POST method.\n",
        "Expand the POST block and click on \"Try it out\" at the upper right of that expanded block.\n",
        "\"Try it out\" will switch to \"Cancel\" in case you decide you do NOT want to try it out right now.\n",
        "You will see a \"Request body\".\n",
        "Edit the dictionary in that \"Request body\" as shown in the next image."
      ]
    },
    {
      "cell_type": "markdown",
      "metadata": {
        "id": "ir38Eikmk8UA"
      },
      "source": [
        "![Edited Request Body Dictionary For First Client Entry](01_POST_Thom_Info.png)"
      ]
    },
    {
      "cell_type": "markdown",
      "metadata": {
        "id": "xJSejR_8k8UA"
      },
      "source": [
        "Now, we click on execute.\n",
        "We want to then check on two things.\n",
        "First, in this expanded POST block, scroll down a bit, and you will see the response that you formulated in your return statement if all went well.\n",
        "I have shown mine below."
      ]
    },
    {
      "cell_type": "markdown",
      "metadata": {
        "id": "sm2__aKLk8UA"
      },
      "source": [
        "![Correct Data Entry Response From The API's Server](02_POST_Server_Response.png)"
      ]
    },
    {
      "cell_type": "markdown",
      "metadata": {
        "id": "-JrHu03fk8UB"
      },
      "source": [
        "Check what the response body reads if you try to execute the POST again from the doc page.\n",
        "You should see `{ \"message\": \"Client ID 73 already exists\" }`."
      ]
    },
    {
      "cell_type": "markdown",
      "metadata": {
        "id": "OtL-o6mVk8UC"
      },
      "source": [
        "Now, let's also view the file named `my_clients.json` that was created."
      ]
    },
    {
      "cell_type": "markdown",
      "metadata": {
        "id": "ZFB_ibKgk8UC"
      },
      "source": [
        "```json\n",
        "{\n",
        "    \"73\": {\n",
        "        \"name\": \"Thom Ives\",\n",
        "        \"companies\": [\n",
        "            \"Echo Global Logistics\"\n",
        "        ]\n",
        "    }\n",
        "}\n",
        "```"
      ]
    },
    {
      "cell_type": "markdown",
      "metadata": {
        "id": "LxrYOYMfk8UC"
      },
      "source": [
        "NICE! Let's add more data now.\n",
        "BUT this time, let's do it with a Python script like the one shown below."
      ]
    },
    {
      "cell_type": "code",
      "execution_count": null,
      "metadata": {
        "id": "cK2lykATk8UD"
      },
      "outputs": [],
      "source": [
        "import requests\n",
        "import json\n",
        "import pprint\n",
        "\n",
        "pp = pprint.PrettyPrinter(indent=2)\n",
        "\n",
        "URL = \"http://127.0.0.1:8000/items/\"\n",
        "\n",
        "response = requests.get(URL)\n",
        "\n",
        "stuff = response.text\n",
        "user_D = json.loads(stuff)\n",
        "\n",
        "pp.pprint(user_D)"
      ]
    },
    {
      "cell_type": "markdown",
      "metadata": {
        "id": "oWEQFBrnk8UD"
      },
      "source": [
        "And the terminal output when we run that is the following."
      ]
    },
    {
      "cell_type": "markdown",
      "metadata": {
        "id": "iYld2Zggk8UD"
      },
      "source": [
        "```shell\n",
        "(py38std) thom@thom-PT5610:~/DagsHub_Repos/Flask_API_Work/My_FastAPI$ python get.py\n",
        "{ 'clients dictionary': { '73': { 'companies': ['Echo Global Logistics'],\n",
        "                                  'name': 'Thom Ives'}}}\n",
        "(py38std) thom@thom-PT5610:~/DagsHub_Repos/Flask_API_Work/My_FastAPI$\n",
        "```"
      ]
    },
    {
      "cell_type": "markdown",
      "metadata": {
        "id": "72iWFEyGk8UD"
      },
      "source": [
        "Nice! We did a POST with our automatically generated API documentation page.\n",
        "Then we did a GET with our python script.\n",
        "Let's do a POST with a Python script and then another GET with our API documentation page.\n",
        "Next is my post script."
      ]
    },
    {
      "cell_type": "code",
      "execution_count": null,
      "metadata": {
        "id": "dmfMY1nnk8UE"
      },
      "outputs": [],
      "source": [
        "import requests\n",
        "\n",
        "the_data = {\"client_id\": \"33\", \"name\": \"Sulky Sarah\",\n",
        "            \"company\": \"Generals Are Us\"}\n",
        "\n",
        "URL = f\"http://127.0.0.1:8000/items/client\"\n",
        "\n",
        "response = requests.post(URL, json=the_data)\n",
        "\n",
        "print(response.text)"
      ]
    },
    {
      "cell_type": "markdown",
      "metadata": {
        "id": "0Qva9ntik8UE"
      },
      "source": [
        "The output on the terminal for this script is ..."
      ]
    },
    {
      "cell_type": "markdown",
      "metadata": {
        "id": "B2s6IHjyk8UF"
      },
      "source": [
        "```bash\n",
        "(py38std) thom@thom-PT5610:~/DagsHub_Repos/Flask_API_Work/My_FastAPI$ python post.py\n",
        "{\"message\":\"added new client\",\"33\":{\"client_name\":\"Sulky Sarah\",\"client_company\":[\"Generals Are Us\"]}}\n",
        "(py38std) thom@thom-PT5610:~/DagsHub_Repos/Flask_API_Work/My_FastAPI$\n",
        "```"
      ]
    },
    {
      "cell_type": "markdown",
      "metadata": {
        "id": "0SLUhp7Dk8UF"
      },
      "source": [
        "Now we want to check the contents of our `my_clients.json` file using the docs page for our API."
      ]
    },
    {
      "cell_type": "markdown",
      "metadata": {
        "id": "5QC7lR2Lk8UF"
      },
      "source": [
        "![GET Method From API Docs Page](03_GET_Method_From_Docs_Page.png)"
      ]
    },
    {
      "cell_type": "markdown",
      "metadata": {
        "id": "LRl4ah5wk8UG"
      },
      "source": [
        "Excellent. It's working great."
      ]
    },
    {
      "cell_type": "markdown",
      "metadata": {
        "id": "TLwXlVlMk8UG"
      },
      "source": [
        "Let's add another new record using the POST block on the API's doc page again.\n",
        "After entering the data, remember to click on the Execute button."
      ]
    },
    {
      "cell_type": "markdown",
      "metadata": {
        "id": "fE3iq36wk8UG"
      },
      "source": [
        "![POSTING A New Client Using API Doc POST Block](04_New_Post_JoJo.png)"
      ]
    },
    {
      "cell_type": "markdown",
      "metadata": {
        "id": "F3WzGxM-k8UG"
      },
      "source": [
        "Now, let's use the GET method from the API Doc page this time too. __NOTE__ that I removed \"Sulky Sarah\" using the delete.py script before running this."
      ]
    },
    {
      "cell_type": "markdown",
      "metadata": {
        "id": "AhALbNxZk8UH"
      },
      "source": [
        "![GET From API Doc Page AFTER Entry Of Second Client](05_GET_From_API_Doc_Page.png)"
      ]
    },
    {
      "cell_type": "markdown",
      "metadata": {
        "id": "IawZ-1Z7k8UH"
      },
      "source": [
        "JoJo Dude, client 57, just moved over to Costco.\n",
        "Let's add that to his work history.\n",
        "We will try a Python script again."
      ]
    },
    {
      "cell_type": "code",
      "execution_count": null,
      "metadata": {
        "id": "qot8OpURk8UI"
      },
      "outputs": [],
      "source": [
        "import requests\n",
        "import json\n",
        "import pprint\n",
        "\n",
        "pp = pprint.PrettyPrinter(indent=2)\n",
        "\n",
        "client_id = 57\n",
        "company = \"Costco\"\n",
        "URL = f\"http://127.0.0.1:8000/users/{client_id}/items/{company}\"\n",
        "print(URL)\n",
        "\n",
        "response = requests.put(URL)\n",
        "\n",
        "stuff = response.text\n",
        "user_D = json.loads(stuff)\n",
        "\n",
        "pp.pprint(user_D)"
      ]
    },
    {
      "cell_type": "markdown",
      "metadata": {
        "id": "0FDP_8jhk8UI"
      },
      "source": [
        "Phew! You can see from the output below that it worked. Nice.\n",
        "Just gotta figure out what's up with the client entry on the post script."
      ]
    },
    {
      "cell_type": "markdown",
      "metadata": {
        "id": "cfkvlBOsk8UI"
      },
      "source": [
        "```bash\n",
        "(py38std) thom@thom-PT5610:~/DagsHub_Repos/Flask_API_Work/My_FastAPI$ python put.py\n",
        "http://127.0.0.1:8000/users/57/items/Costco\n",
        "{'message': 'Added Costco to company records for client 57'}\n",
        "(py38std) thom@thom-PT5610:~/DagsHub_Repos/Flask_API_Work/My_FastAPI$\n",
        "```"
      ]
    },
    {
      "cell_type": "markdown",
      "metadata": {
        "id": "8_PIRRzhk8UJ"
      },
      "source": [
        "And the below shows the contents of our updated `my_clients.json` file."
      ]
    },
    {
      "cell_type": "markdown",
      "metadata": {
        "id": "tKCH9NbTk8UJ"
      },
      "source": [
        "```json\n",
        "{\n",
        "    \"73\": {\n",
        "        \"name\": \"Thom Ives\",\n",
        "        \"companies\": [\n",
        "            \"Echo Global Logistics\"\n",
        "        ]\n",
        "    },\n",
        "    \"57\": {\n",
        "        \"name\": \"JoJo Dude\",\n",
        "        \"companies\": [\n",
        "            \"Franklin Building Supply\",\n",
        "            \"Costco\"\n",
        "        ]\n",
        "    }\n",
        "}\n",
        "```"
      ]
    },
    {
      "cell_type": "markdown",
      "metadata": {
        "id": "stZLf5eik8UK"
      },
      "source": [
        "Try to ALSO use the PUT method on the API's doc page.\n",
        "It'd be a good experience for you."
      ]
    },
    {
      "cell_type": "markdown",
      "metadata": {
        "id": "uYjoCwQBk8UK"
      },
      "source": [
        "Alas, JoJo is going to leave our firm for another one.\n",
        "We hope he comes back.\n",
        "We should really move items deleted from our `my_clients.json` file to some lost clients file.\n",
        "It's on our development task list.\n",
        "For now, let's delete him from this file.\n",
        "After all, this is just fake data for development purposes.\n",
        "We'll try our own script."
      ]
    },
    {
      "cell_type": "code",
      "execution_count": null,
      "metadata": {
        "id": "zzw2w8YGk8UL"
      },
      "outputs": [],
      "source": [
        "import requests\n",
        "import json\n",
        "import pprint\n",
        "\n",
        "pp = pprint.PrettyPrinter(indent=2)\n",
        "\n",
        "client_id = 57\n",
        "URL = f\"http://127.0.0.1:8000/users/{client_id}\"\n",
        "print(URL)\n",
        "\n",
        "response = requests.delete(URL)\n",
        "\n",
        "stuff = response.text\n",
        "user_D = json.loads(stuff)\n",
        "\n",
        "pp.pprint(user_D)"
      ]
    },
    {
      "cell_type": "markdown",
      "metadata": {
        "id": "1VkxrjFLk8UL"
      },
      "source": [
        "When we run that, we get the following terminal output.\n",
        "NICE!\n",
        "AND, you will find that the `my_clients.json` file updated correctly."
      ]
    },
    {
      "cell_type": "markdown",
      "metadata": {
        "id": "aNCM6Tddk8UL"
      },
      "source": [
        "```bash\n",
        "(py38std) thom@thom-PT5610:~/DagsHub_Repos/Flask_API_Work/My_FastAPI$ python delete.py\n",
        "http://127.0.0.1:8000/users/57\n",
        "{'message': 'Removed JoJo Dude, client 57, from client records'}\n",
        "(py38std) thom@thom-PT5610:~/DagsHub_Repos/Flask_API_Work/My_FastAPI$\n",
        "```"
      ]
    },
    {
      "cell_type": "markdown",
      "metadata": {
        "id": "NmAN2rqxk8UM"
      },
      "source": [
        "In fact, let's view it using our GET Python script again.\n",
        "You can of course ALSO use the API's GET block and execute the GET from there."
      ]
    },
    {
      "cell_type": "markdown",
      "metadata": {
        "id": "8L4UCnc2k8UM"
      },
      "source": [
        "```bash\n",
        "(py38std) thom@thom-PT5610:~/DagsHub_Repos/Flask_API_Work/My_FastAPI$ python get.py\n",
        "{ 'clients dictionary': { '73': { 'companies': ['Echo Global Logistics'],\n",
        "                                  'name': 'Thom Ives'}}}\n",
        "(py38std) thom@thom-PT5610:~/DagsHub_Repos/Flask_API_Work/My_FastAPI$\n",
        "```"
      ]
    },
    {
      "cell_type": "markdown",
      "metadata": {
        "id": "TizRlAX0k8UM"
      },
      "source": [
        "Great!\n",
        "I am this firms only client, but I plan to stay with them.\n",
        "I like the way that they code APIs using FastAPI!"
      ]
    },
    {
      "cell_type": "markdown",
      "metadata": {
        "id": "DqsXDsVCk8UM"
      },
      "source": [
        "## Summary"
      ]
    },
    {
      "cell_type": "markdown",
      "metadata": {
        "id": "ZjKlKlVPk8UN"
      },
      "source": [
        "We used Python FastAPI to create a REST API.\n",
        "We discovered some great new power and methods using FastAPI.\n",
        "\n",
        "Until next time."
      ]
    }
  ],
  "metadata": {
    "kernelspec": {
      "display_name": "Python 3.8.10 ('py38std')",
      "language": "python",
      "name": "python3"
    },
    "language_info": {
      "codemirror_mode": {
        "name": "ipython",
        "version": 3
      },
      "file_extension": ".py",
      "mimetype": "text/x-python",
      "name": "python",
      "nbconvert_exporter": "python",
      "pygments_lexer": "ipython3",
      "version": "3.8.10"
    },
    "orig_nbformat": 4,
    "vscode": {
      "interpreter": {
        "hash": "e37e04c7be8db6b4ec1741ee58c9ee0ea3179ad51f0533caa0cc689e605caaef"
      }
    },
    "colab": {
      "provenance": [],
      "include_colab_link": true
    }
  },
  "nbformat": 4,
  "nbformat_minor": 0
}